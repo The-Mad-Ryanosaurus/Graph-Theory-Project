{
 "cells": [
  {
   "attachments": {},
   "cell_type": "markdown",
   "metadata": {},
   "source": [
    "# Graph Isomorphism Problem"
   ]
  },
  {
   "attachments": {},
   "cell_type": "markdown",
   "metadata": {},
   "source": [
    "---"
   ]
  },
  {
   "attachments": {},
   "cell_type": "markdown",
   "metadata": {},
   "source": [
    "#### Project by: Ryan Harte  -  (G00338424)"
   ]
  },
  {
   "attachments": {},
   "cell_type": "markdown",
   "metadata": {},
   "source": [
    "---"
   ]
  },
  {
   "attachments": {},
   "cell_type": "markdown",
   "metadata": {},
   "source": [
    "> The graph isomorphism problem is the computational problem of determining whether two finite graphs are isomorphic. The problem is not known to be solvable in polynomial time nor to be NP-complete, and therefore may be in the computational complexity class NP-intermediate. \n",
    "\n",
    "[Wikipedia](https://en.wikipedia.org/wiki/Graph_isomorphism_problem#:~:text=The%20graph%20isomorphism%20problem%20is,computational%20complexity%20class%20NP%2Dintermediate.)"
   ]
  },
  {
   "attachments": {},
   "cell_type": "markdown",
   "metadata": {},
   "source": [
    "### Introduction\n",
    "#### What is Graph Isomorphism"
   ]
  },
  {
   "attachments": {},
   "cell_type": "markdown",
   "metadata": {},
   "source": [
    "Graphs can exist in many different forms and can display their data in various ways. Isomorphic Graphs refer to two or more graphs that display the same data (side by side) differently. For example take the two graphs below. Are they Isomorphic?:\n",
    "\n",
    "![graph1](./images/graph1.png)\n",
    "\n",
    "To figure out if these graphas are isomorphic we should ask ourselves the following questions.\n",
    "- Do the graphs have the same amount of vertices?\n",
    "- Do the graphs have the same amount of number of edges?\n",
    "- Do the graphs have the same degree sequence?\n",
    "- Do the graphs have the same cycle length?\n",
    "\n",
    "But what are vertices, edges, degree sequences and what is the cycle length? Let me explain!\n",
    "\n",
    "- Vertices referes to the amount of Nodes or Positions on the graph\n",
    "- Edges referes to the lines drawn between each Node\n",
    "- Degree Sequence refers to how many Edges each Node in the graph has joining to it.\n",
    "- Cycle Length A cycle in a graph is a path that starts and ends at the same point. The cycle length is the number of lines (or edges) that make up that cycle.\n",
    " \n",
    "Knowing the structure of a graph now we can begin to ask ourselves the four questions to see if two or more graphs are isomorphic. If the answer to each question is yes then isomorphism is true. In the case of the two graphs above isomorphism is indeed true. This can be denoted as G≅H as there exists a bijection between the two graphs. Bijections become extremely important in more complex graphs as you will see later on.\n",
    "\n"
   ]
  },
  {
   "attachments": {},
   "cell_type": "markdown",
   "metadata": {},
   "source": [
    "## Bijections\n",
    "\n",
    "What is a Bijection?\n",
    "\n",
    "In terms of graphs, a bijection is a type of function that maps the vertices of one graph to the vertices of another graph, in a way that preserves both the structure and the number of vertices. Bijections are both injective and surjective.\n",
    "\n",
    "Function example, take the graph image G and H above:\n",
    "A Bijection is a Function (f) that maps the vertices (V) of Graphs G and H in a way that each vertex in graph G is mapped to a unique vertex in graph H and vice versa. In other words f is both injective (one to one) and surjective (onto). \n",
    "f:(VG -> VH) if Vertices a1 and b1 are edges in G --> {f(a),f(b)} then these are also an edge in H (a2, b2).\n",
    "\n",
    "### Injective (one to one) and Surjective (onto)\n",
    "\n",
    "In graph theory, a function between two graphs can be classified as injective or surjective.\n",
    "\n",
    "An injective function is one where each vertex of the first graph (G) maps to a different vertex in the second graph (H). If there are two vertices in G that are adjacent to each other, their images in H must also be adjacent. If both grpahs were on a piece of paper they would be able to fold in on top of eachother.\n",
    "\n",
    "A surjective function is one where every vertex in the second graph (H) is the image of at least one vertex in the first graph (G). Every vertex in graph H can be reached by following a path from a vertex in G.\n",
    "\n",
    "Bijections are useful in graph theory for a variety of purposes, including comparing and contrasting different graphs, proving properties about graphs, and constructing new graphs from existing ones.\n",
    "\n",
    "From a simple graph like the one above it is easy to spot if a graph is isomorphic as concluding bijections is easy. But what about more complex graphs with many vertices, edges, degree sequences and cycle lengths? How do we conclude then if a graph is isomorphic? "
   ]
  },
  {
   "attachments": {},
   "cell_type": "markdown",
   "metadata": {},
   "source": [
    "# Notes - Make sure to edit and delete\n",
    "checking for isomorphism \n",
    "how many ways to show the same graph?\n",
    "\n",
    "graphs as matrices - give examples\n",
    "\n",
    "digraphs not symetrical graphs\n",
    "\n",
    "factorial problem - number of points to map to \n",
    "\n",
    "example of a graph with 6 nodes [A B C D E F] A=6 B=5 C=4 D=3 E=2 F=1 (multiply 6x5x4x3x2x1 to find factorial)"
   ]
  },
  {
   "cell_type": "code",
   "execution_count": null,
   "metadata": {},
   "outputs": [],
   "source": []
  }
 ],
 "metadata": {
  "kernelspec": {
   "display_name": "Python 3",
   "language": "python",
   "name": "python3"
  },
  "language_info": {
   "codemirror_mode": {
    "name": "ipython",
    "version": 3
   },
   "file_extension": ".py",
   "mimetype": "text/x-python",
   "name": "python",
   "nbconvert_exporter": "python",
   "pygments_lexer": "ipython3",
   "version": "3.10.7"
  },
  "orig_nbformat": 4,
  "vscode": {
   "interpreter": {
    "hash": "369f2c481f4da34e4445cda3fffd2e751bd1c4d706f27375911949ba6bb62e1c"
   }
  }
 },
 "nbformat": 4,
 "nbformat_minor": 2
}
