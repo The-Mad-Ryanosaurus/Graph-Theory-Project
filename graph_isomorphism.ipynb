{
 "cells": [
  {
   "attachments": {},
   "cell_type": "markdown",
   "metadata": {},
   "source": [
    "# Graph Isomorphism Problem"
   ]
  },
  {
   "attachments": {},
   "cell_type": "markdown",
   "metadata": {},
   "source": [
    "---"
   ]
  },
  {
   "attachments": {},
   "cell_type": "markdown",
   "metadata": {},
   "source": [
    "#### Project by: Ryan Harte  -  (G00338424)"
   ]
  },
  {
   "attachments": {},
   "cell_type": "markdown",
   "metadata": {},
   "source": [
    "---"
   ]
  },
  {
   "attachments": {},
   "cell_type": "markdown",
   "metadata": {},
   "source": [
    "> The graph isomorphism problem is the computational problem of determining whether two finite graphs are isomorphic. The problem is not known to be solvable in polynomial time nor to be NP-complete, and therefore may be in the computational complexity class NP-intermediate. \n",
    "\n",
    "[Wikipedia](https://en.wikipedia.org/wiki/Graph_isomorphism_problem#:~:text=The%20graph%20isomorphism%20problem%20is,computational%20complexity%20class%20NP%2Dintermediate.)"
   ]
  },
  {
   "attachments": {},
   "cell_type": "markdown",
   "metadata": {},
   "source": [
    "---"
   ]
  },
  {
   "attachments": {},
   "cell_type": "markdown",
   "metadata": {},
   "source": [
    "### Introduction\n",
    "#### What is Graph Isomorphism"
   ]
  },
  {
   "cell_type": "code",
   "execution_count": 16,
   "metadata": {},
   "outputs": [
    {
     "data": {
      "image/png": "[encoded data removed]",
      "text/plain": [
       "<Figure size 640x480 with 2 Axes>"
      ]
     },
     "metadata": {},
     "output_type": "display_data"
    },
    {
     "name": "stdout",
     "output_type": "stream",
     "text": [
      "Are the Grpahs Isompophic? True\n"
     ]
    }
   ],
   "source": [
    "#importing networkx\n",
    "import networkx as nx\n",
    "import matplotlib as mp\n",
    " \n",
    "#importing matplotlib.pyplot\n",
    "import matplotlib.pyplot as plt\n",
    "\n",
    "#Create Graphs\n",
    "G = nx.Graph()\n",
    "H = nx.Graph()\n",
    " \n",
    "#add nodes\n",
    "G.add_node(\"A\")\n",
    "G.add_node(\"B\")\n",
    "G.add_node(\"C\")\n",
    "G.add_node(\"D\")\n",
    "G.add_nodes_from ([\"A\", \"B\"])\n",
    "G.add_nodes_from ([\"B\", \"C\"])\n",
    "G.add_nodes_from ([\"C\", \"D\"])\n",
    "G.add_nodes_from ([\"D\", \"A\"])\n",
    "\n",
    "H.add_node(\"1\")\n",
    "H.add_node(\"2\")\n",
    "H.add_node(\"3\")\n",
    "H.add_node(\"4\")\n",
    "H.add_nodes_from ([\"1\", \"2\"])\n",
    "H.add_nodes_from ([\"2\", \"3\"])\n",
    "H.add_nodes_from ([\"3\", \"4\"])\n",
    "H.add_nodes_from ([\"4\", \"1\"])\n",
    "\n",
    " \n",
    "#add edges\n",
    "G.add_edge(\"A\",\"B\")\n",
    "G.add_edge(\"B\",\"C\")\n",
    "G.add_edge(\"C\",\"D\")\n",
    "G.add_edge(\"D\",\"A\")\n",
    "\n",
    "H.add_edge(\"1\", \"2\")\n",
    "H.add_edge(\"2\", \"3\")\n",
    "H.add_edge(\"3\", \"4\")\n",
    "H.add_edge(\"4\", \"1\")\n",
    "\n",
    "plt.subplot(1, 2, 1) \n",
    "nx.draw(G, with_labels = True)\n",
    "plt.subplot(1, 2, 2) \n",
    "nx.draw(H, with_labels = True)\n",
    "\n",
    "plt.show()\n",
    "\n",
    "print(\"Are the Grpahs Isompophic? \"+str(nx.is_isomorphic(G, H)))"
   ]
  },
  {
   "attachments": {},
   "cell_type": "markdown",
   "metadata": {},
   "source": [
    "Graphs can exist in many different forms and can display their data in various ways. Isomorphic Graphs refer to two or more graphs that display the same data (side by side) differently. For example take the two graphs below. Are they Isomorphic?:\n",
    "\n",
    "To figure out if these graphas are isomorphic we should ask ourselves the following questions.\n",
    "- Do the graphs have the same amount of vertices?\n",
    "- Do the graphs have the same amount of number of edges?\n",
    "- Do the graphs have the same degree sequence?\n",
    "- Do the graphs have the same cycle length?\n",
    "\n",
    "But what are vertices, edges, degree sequences and what is the cycle length? Let me explain!\n",
    "\n",
    "- Vertices referes to the amount of Nodes or Positions on the graph\n",
    "- Edges referes to the lines drawn between each Node\n",
    "- Degree Sequence refers to how many Edges each Node in the graph has joining to it.\n",
    "- Cycle Length A cycle in a graph is a path that starts and ends at the same point. The cycle length is the number of lines (or edges) that make up that cycle.\n",
    " \n",
    "Knowing the structure of a graph now we can begin to ask ourselves the four questions to see if two or more graphs are isomorphic. If the answer to each question is yes then isomorphism is true. In the case of the two graphs above isomorphism is indeed true. This can be denoted as G≅H as there exists a bijection between the two graphs. Bijections become extremely important in more complex graphs as you will see later on.\n",
    "\n"
   ]
  },
  {
   "attachments": {},
   "cell_type": "markdown",
   "metadata": {},
   "source": [
    "---"
   ]
  },
  {
   "attachments": {},
   "cell_type": "markdown",
   "metadata": {},
   "source": [
    "## Bijections\n",
    "\n",
    "What is a Bijection?\n",
    "\n",
    "In terms of graphs, a bijection is a type of function that maps the vertices of one graph to the vertices of another graph, in a way that preserves both the structure and the number of vertices. Bijections are both injective and surjective.\n",
    "\n",
    "Function example, take the graphs G and H above:\n",
    "A Bijection is a Function (f) that maps the vertices (V) of Graphs G and H in a way that each vertex in graph G is mapped to a unique vertex in graph H and vice versa. In other words f is both injective (one to one) and surjective (onto). \n",
    "f:(VG -> VH) if Vertices A and B are edges in G --> {f(A),f(B)} then these are also an edge in H (1, 2).\n",
    "\n",
    "### Injective (one to one) and Surjective (onto)\n",
    "Lets explain the function above in more detial:\n",
    "\n",
    "In graph theory, a function between two graphs can be classified as injective or surjective as we have seen.\n",
    "\n",
    "An injective function is one where each vertex of the first graph (G) maps to a different vertex in the second graph (H). If there are two vertices in G that are adjacent to each other, their images in H must also be adjacent.\n",
    "\n",
    "A surjective function is one where every vertex in the second graph (H) is the image of at least one vertex in the first graph (G). Every vertex in graph H can be reached by following a path from a vertex in G.\n",
    "\n",
    "Bijections are useful in graph theory for a variety of purposes, including comparing and contrasting different graphs, proving properties about graphs, and constructing new graphs from existing ones.\n",
    "\n",
    "From a simple graph like the one above it is easy to spot if a graph is isomorphic as concluding bijections is easy and answering the four isomorphic questions with a Yes is easy, thus concluding the graphs are 100% isomorphic. But what about more complex graphs with many vertices, edges, degree sequences and cycle lengths? How do we conclude then if a graph is isomorphic? This is where we will take a look at verious methods to identify isomprphism in more complex graphs and we will discuss the Factorial Problem in Python."
   ]
  },
  {
   "attachments": {},
   "cell_type": "markdown",
   "metadata": {},
   "source": [
    "---"
   ]
  },
  {
   "attachments": {},
   "cell_type": "markdown",
   "metadata": {},
   "source": [
    "## Isomorphism in Complex Graphs - Factorial Problem\n",
    "\n",
    "Unfortunately there is no known algorithm to identify isomorphism between two or more graphs (hence the graph isomorphism problem). There is however ways to identify graph isomprhism in more complex graphs and we will discuss them below:\n",
    "\n",
    "### Degree Sequencing\n",
    "For the following we will take the graphs from the image below as our example:\n",
    "![Alt text](images/complexgraph.png)\n",
    "\n",
    "In practice, when the number of vertices is not too large, we can check for isomorphism without too much work. We do this by picking out distinguishing features of the vertices in each graph. Then we have fewer bijections between the vertex sets to check to see if the graphs are isomorphic.\n",
    "\n",
    "One of the simplest distinguishing features of a vertex is its degree: the number of edges out of that vertex. For the example in the question, we notice that:"
   ]
  },
  {
   "cell_type": "markdown",
   "metadata": {},
   "source": []
  },
  {
   "attachments": {},
   "cell_type": "markdown",
   "metadata": {},
   "source": [
    "# Notes - Make sure to edit and delete\n",
    "checking for isomorphism \n",
    "how many ways to show the same graph?\n",
    "\n",
    "graphs as matrices - give examples\n",
    "\n",
    "digraphs not symetrical graphs\n",
    "\n",
    "factorial problem - number of points to map to \n",
    "\n",
    "example of a graph with 6 nodes [A B C D E F] A=6 B=5 C=4 D=3 E=2 F=1 (multiply 6x5x4x3x2x1 to find factorial)\n",
    "\n",
    "\n",
    "\n"
   ]
  },
  {
   "attachments": {},
   "cell_type": "markdown",
   "metadata": {},
   "source": [
    "## Permutation Matrices"
   ]
  },
  {
   "cell_type": "code",
   "execution_count": null,
   "metadata": {},
   "outputs": [],
   "source": [
    "import numpy as np\n",
    "import itertools as it\n",
    "\n",
    "\n",
    "\n"
   ]
  },
  {
   "cell_type": "code",
   "execution_count": null,
   "metadata": {},
   "outputs": [],
   "source": []
  }
 ],
 "metadata": {
  "kernelspec": {
   "display_name": "Python 3",
   "language": "python",
   "name": "python3"
  },
  "language_info": {
   "codemirror_mode": {
    "name": "ipython",
    "version": 3
   },
   "file_extension": ".py",
   "mimetype": "text/x-python",
   "name": "python",
   "nbconvert_exporter": "python",
   "pygments_lexer": "ipython3",
   "version": "3.10.7"
  },
  "orig_nbformat": 4,
  "vscode": {
   "interpreter": {
    "hash": "369f2c481f4da34e4445cda3fffd2e751bd1c4d706f27375911949ba6bb62e1c"
   }
  }
 },
 "nbformat": 4,
 "nbformat_minor": 2
}
