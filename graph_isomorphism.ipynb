{
 "cells": [
  {
   "attachments": {},
   "cell_type": "markdown",
   "metadata": {},
   "source": [
    "# Graph Isomorphism Problem"
   ]
  },
  {
   "attachments": {},
   "cell_type": "markdown",
   "metadata": {},
   "source": [
    "---"
   ]
  },
  {
   "attachments": {},
   "cell_type": "markdown",
   "metadata": {},
   "source": [
    "#### Project by: Ryan Harte  -  (G00338424)"
   ]
  },
  {
   "attachments": {},
   "cell_type": "markdown",
   "metadata": {},
   "source": [
    "---"
   ]
  },
  {
   "attachments": {},
   "cell_type": "markdown",
   "metadata": {},
   "source": [
    "> The graph isomorphism problem is the computational problem of determining whether two finite graphs are isomorphic. The problem is not known to be solvable in polynomial time nor to be NP-complete, and therefore may be in the computational complexity class NP-intermediate. \n",
    "\n",
    "[Wikipedia](https://en.wikipedia.org/wiki/Graph_isomorphism_problem#:~:text=The%20graph%20isomorphism%20problem%20is,computational%20complexity%20class%20NP%2Dintermediate.)"
   ]
  },
  {
   "attachments": {},
   "cell_type": "markdown",
   "metadata": {},
   "source": [
    "### Introduction\n",
    "#### What is Graph Isomorphism"
   ]
  },
  {
   "attachments": {},
   "cell_type": "markdown",
   "metadata": {},
   "source": [
    "Graphs can exist in many different forms and can display their data in various ways. Isomorphic Graphs refer to two or more graphs that display the same data (side by side) differently. For example take the two graphs below. Are they Isomorphic?:\n",
    "\n",
    "![graph1](./images/graph1.png)\n",
    "\n",
    "To figure out if these graphas are isomorphic we should ask ourselves the following questions.\n",
    "- Do the graphs have the same amount of vertices?\n",
    "- Do the graphs have the same amount of number of edges?\n",
    "- Do the graphs have the same degree sequence?\n",
    "- Do the graphs have the same cycle length?\n",
    "\n",
    "But what are vertices, edges, degree sequences and what is the cycle length? Let me explain!\n",
    "\n",
    "- Vetices referes to the amount of Nodes or Positions on the graph\n",
    "- Edges referes to the lines between each Node\n",
    "- Degree Sequence refers to how many edges each node/point in the graph has.\n",
    "- Cycle Length A cycle in a graph is a path that starts and ends at the same point. The cycle length is the number of lines (or edges) that make up that cycle."
   ]
  },
  {
   "cell_type": "code",
   "execution_count": null,
   "metadata": {},
   "outputs": [],
   "source": [
    "checking for isomorphism \n",
    "how many ways to show the same graph\n",
    "\n",
    "graphs as matrices \n",
    "\n",
    "digraphs not symetrical graphs"
   ]
  },
  {
   "cell_type": "code",
   "execution_count": null,
   "metadata": {},
   "outputs": [],
   "source": []
  }
 ],
 "metadata": {
  "kernelspec": {
   "display_name": "Python 3",
   "language": "python",
   "name": "python3"
  },
  "language_info": {
   "codemirror_mode": {
    "name": "ipython",
    "version": 3
   },
   "file_extension": ".py",
   "mimetype": "text/x-python",
   "name": "python",
   "nbconvert_exporter": "python",
   "pygments_lexer": "ipython3",
   "version": "3.10.7"
  },
  "orig_nbformat": 4,
  "vscode": {
   "interpreter": {
    "hash": "369f2c481f4da34e4445cda3fffd2e751bd1c4d706f27375911949ba6bb62e1c"
   }
  }
 },
 "nbformat": 4,
 "nbformat_minor": 2
}
